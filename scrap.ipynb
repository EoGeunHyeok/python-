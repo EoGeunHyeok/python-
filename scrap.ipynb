{
 "cells": [
  {
   "cell_type": "code",
   "execution_count": 4,
   "metadata": {},
   "outputs": [
    {
     "ename": "ModuleNotFoundError",
     "evalue": "No module named 'bs4'",
     "output_type": "error",
     "traceback": [
      "\u001b[1;31m---------------------------------------------------------------------------\u001b[0m",
      "\u001b[1;31mModuleNotFoundError\u001b[0m                       Traceback (most recent call last)",
      "Cell \u001b[1;32mIn[4], line 2\u001b[0m\n\u001b[0;32m      1\u001b[0m \u001b[39mimport\u001b[39;00m \u001b[39mrequests\u001b[39;00m \u001b[39mas\u001b[39;00m \u001b[39mreq\u001b[39;00m \u001b[39m# requests 모듈  => 웹페이지를 요청하고 응답 데이터를 받을 수 있음.\u001b[39;00m\n\u001b[1;32m----> 2\u001b[0m \u001b[39mfrom\u001b[39;00m \u001b[39mbs4\u001b[39;00m \u001b[39mimport\u001b[39;00m BeautifulSoup \u001b[39m# BeautifulSoup html 해석기\u001b[39;00m\n\u001b[0;32m      4\u001b[0m request_headers \u001b[39m=\u001b[39m {\u001b[39m'\u001b[39m\u001b[39mUser-Agent\u001b[39m\u001b[39m'\u001b[39m: (\u001b[39m'\u001b[39m\u001b[39mMozilla/5.0 (Windows NT 10.0;Win64; x64)AppleWebKit/537.36 (KHTML, like Gecko) Chrome/71.0.3578.98Safari/537.36\u001b[39m\u001b[39m'\u001b[39m), }\n\u001b[0;32m      6\u001b[0m \u001b[39m# 특정 사이트에 페이지를 요청. 응답 데이터 반환\u001b[39;00m\n",
      "\u001b[1;31mModuleNotFoundError\u001b[0m: No module named 'bs4'"
     ]
    }
   ],
   "source": [
    "import requests as req # requests 모듈  => 웹페이지를 요청하고 응답 데이터를 받을 수 있음.\n",
    "from bs4 import BeautifulSoup # BeautifulSoup html 해석기\n",
    "\n",
    "request_headers = {'User-Agent': ('Mozilla/5.0 (Windows NT 10.0;Win64; x64)AppleWebKit/537.36 (KHTML, like Gecko) Chrome/71.0.3578.98Safari/537.36'), }\n",
    "\n",
    "# 특정 사이트에 페이지를 요청. 응답 데이터 반환\n",
    "response = req.get(\"https://www.naver.com/\", headers = request_headers)\n",
    "\n",
    "print(response.text)"
   ]
  }
 ],
 "metadata": {
  "kernelspec": {
   "display_name": "Python 3",
   "language": "python",
   "name": "python3"
  },
  "language_info": {
   "codemirror_mode": {
    "name": "ipython",
    "version": 3
   },
   "file_extension": ".py",
   "mimetype": "text/x-python",
   "name": "python",
   "nbconvert_exporter": "python",
   "pygments_lexer": "ipython3",
   "version": "3.10.5"
  },
  "orig_nbformat": 4
 },
 "nbformat": 4,
 "nbformat_minor": 2
}
